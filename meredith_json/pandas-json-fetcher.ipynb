{
 "cells": [
  {
   "cell_type": "code",
   "execution_count": null,
   "id": "ddb7573e-ed56-422f-8b6d-54e8614723ea",
   "metadata": {},
   "outputs": [],
   "source": [
    "import os\n",
    "from uuid import uuid4\n",
    "import pandas as pd\n",
    "import json \n",
    "import time\n",
    "\n",
    "from tqdm import tqdm\n",
    "\n",
    "DATA_PATH = \"data\"\n",
    "NA_PLACEHOLDER = \"NA\"\n",
    "\n",
    "pd.options.plotting.backend = \"plotly\""
   ]
  },
  {
   "cell_type": "markdown",
   "id": "2616d4e9-c7d8-4ca3-9346-6f7bd77bd6c9",
   "metadata": {},
   "source": [
    "### Load Jsons"
   ]
  },
  {
   "cell_type": "code",
   "execution_count": null,
   "id": "e0f996cf-36bb-455f-ad7d-b72eed7022f5",
   "metadata": {},
   "outputs": [],
   "source": [
    "json_files = os.listdir(DATA_PATH)\n",
    "json_files[:2], json_files[-2:], len(json_files)"
   ]
  },
  {
   "cell_type": "markdown",
   "id": "b28aad35-c381-4eac-a02f-ec6cb2bccb42",
   "metadata": {},
   "source": [
    "### Combine All The Jsons "
   ]
  },
  {
   "cell_type": "code",
   "execution_count": null,
   "id": "c60af697-5b4a-4b2a-8ee5-23a10d589d27",
   "metadata": {},
   "outputs": [],
   "source": [
    "patient_records = []\n",
    "\n",
    "for json_file in tqdm(json_files):\n",
    "    patient_id = str(uuid4())\n",
    "    json_path = os.path.join(DATA_PATH,json_file)\n",
    "    patient_details = {\"id\": patient_id,\n",
    "                       \"json_path\": json_path}\n",
    "    with open(json_path, encoding=\"utf-8\") as fh:\n",
    "        try:\n",
    "            payload = json.load(fh)\n",
    "            patient_details['payload'] =  payload \n",
    "            patient_records.append(patient_details)\n",
    "        except Exception as e:\n",
    "            print(\"Exception {e} occured while trying to load {fpath}\".format(\n",
    "              e = e,\n",
    "              fpath = json_path\n",
    "            ))\n",
    "print(\"Lenght of final list: {}\".format(len(patient_records)))"
   ]
  },
  {
   "cell_type": "code",
   "execution_count": null,
   "id": "d5fbf294-2437-430c-9b29-827c1218d1af",
   "metadata": {},
   "outputs": [],
   "source": [
    "patient_records[0].keys(),patient_records[0]['payload'].keys(),"
   ]
  },
  {
   "cell_type": "markdown",
   "id": "022e7af1-ef84-4006-b2a9-bece28a3f44a",
   "metadata": {},
   "source": [
    "### Prepare DataFrame"
   ]
  },
  {
   "cell_type": "code",
   "execution_count": null,
   "id": "35295186-6956-4313-9640-2c25ab814051",
   "metadata": {},
   "outputs": [],
   "source": [
    "rows = []\n",
    "for patient_record in tqdm(patient_records):\n",
    "    patient_id = patient_record['id']\n",
    "    patient_json_path = patient_record['json_path'] \n",
    "    patient_payload = patient_record['payload']\n",
    "    \n",
    "    entries = patient_payload['entry']\n",
    "\n",
    "    try:\n",
    "        for entry in entries:\n",
    "            patient_row = {\n",
    "                            \"patient_id\": patient_id,\n",
    "                            \"patient_json_path\": patient_json_path \n",
    "                }\n",
    "            resource_details = entry.get('resource', NA_PLACEHOLDER)\n",
    "            patient_row[\"resource_type\"] = resource_details.get(\"resourceType\",NA_PLACEHOLDER)\n",
    "            patient_row[\"resource_id\"] = resource_details.get(\"id\",NA_PLACEHOLDER)\n",
    "            patient_row[\"resource_meta\"] = resource_details.get(\"meta\", NA_PLACEHOLDER)\n",
    "            rows.append(patient_row)\n",
    "    except Exception as e:\n",
    "        print(\"Exception {e} for {fpath}\".format(\n",
    "            e = e,\n",
    "            fpath = patient_json_path\n",
    "        ))\n",
    "\n",
    "\n",
    "final_df = pd.DataFrame(rows)"
   ]
  },
  {
   "cell_type": "markdown",
   "id": "7c18336e-96e2-4959-bdfe-1abdaf864bfc",
   "metadata": {},
   "source": [
    "### Inspect Final DataFrame"
   ]
  },
  {
   "cell_type": "code",
   "execution_count": null,
   "id": "3588f00a-ceb6-4593-ae48-f5953b61ae54",
   "metadata": {},
   "outputs": [],
   "source": [
    "final_df['patient_id'].nunique()"
   ]
  },
  {
   "cell_type": "code",
   "execution_count": null,
   "id": "e13f73f7-a067-41fc-a787-ca6c80d1785d",
   "metadata": {},
   "outputs": [],
   "source": [
    "final_df.head()"
   ]
  },
  {
   "cell_type": "markdown",
   "id": "2726a6b2-b10e-479c-8588-19f9421b256d",
   "metadata": {},
   "source": [
    "#### Number Of Unique Resource Types"
   ]
  },
  {
   "cell_type": "code",
   "execution_count": null,
   "id": "658a7190-2e4d-4fef-b0ef-fefb7fc8b9ff",
   "metadata": {},
   "outputs": [],
   "source": [
    "final_df['resource_type'].unique()"
   ]
  },
  {
   "cell_type": "code",
   "execution_count": null,
   "id": "334cced8-f015-4a26-aab9-e44c38c404ad",
   "metadata": {},
   "outputs": [],
   "source": [
    "final_df['resource_type'].nunique()"
   ]
  },
  {
   "cell_type": "markdown",
   "id": "178977f6-ebe4-429f-a3a3-c9d8edf31ec6",
   "metadata": {},
   "source": [
    "### Count For Each Resource Type"
   ]
  },
  {
   "cell_type": "code",
   "execution_count": null,
   "id": "379084f0-a3d8-4f7c-b72c-31f367f2058a",
   "metadata": {},
   "outputs": [],
   "source": [
    "final_df['resource_type'].value_counts()"
   ]
  },
  {
   "cell_type": "code",
   "execution_count": null,
   "id": "234f3b5f-c48a-4e2e-944b-fbce9d6dc205",
   "metadata": {},
   "outputs": [],
   "source": [
    "final_df['resource_type'].value_counts().plot(kind=\"bar\",\n",
    "                                              title = \"Resource Type Counts\",\n",
    "                                             template=\"plotly_dark\")"
   ]
  },
  {
   "cell_type": "markdown",
   "id": "35aa9ebc-e9ec-4582-92ff-1c1d9c81028c",
   "metadata": {},
   "source": [
    "#### Count Of Each Resource Type Per Patient"
   ]
  },
  {
   "cell_type": "code",
   "execution_count": null,
   "id": "59355e07-aacb-4951-8323-8a3c0757a5b5",
   "metadata": {},
   "outputs": [],
   "source": [
    "patient_resources = final_df.groupby('patient_json_path')['resource_type'].value_counts().to_frame()\n",
    "patient_resources = patient_resources.rename(columns = {\"resource_type\": \"count\"})\n",
    "patient_resources = patient_resources.reset_index()\n",
    "patient_resources['patient_name'] = patient_resources['patient_json_path'].apply(lambda field: os.path.splitext(field)[0].replace('data/','').title())\n",
    "patient_resources.head()"
   ]
  },
  {
   "cell_type": "code",
   "execution_count": null,
   "id": "183ae773-0435-4bd7-9418-69e46548476a",
   "metadata": {},
   "outputs": [],
   "source": [
    "patient_resources_pivot = patient_resources.pivot(index = 'patient_name',\n",
    "                        columns = \"resource_type\",\n",
    "                        values=\"count\").fillna(0)\n",
    "patient_resources_pivot"
   ]
  },
  {
   "cell_type": "code",
   "execution_count": null,
   "id": "b35cb172-672e-4820-a87a-19d25d63163c",
   "metadata": {},
   "outputs": [],
   "source": [
    "patient_resources_pivot.to_csv(os.path.join(DATA_PATH,'patient_resource_count.csv'))"
   ]
  }
 ],
 "metadata": {
  "kernelspec": {
   "display_name": "Python 3 (ipykernel)",
   "language": "python",
   "name": "python3"
  },
  "language_info": {
   "codemirror_mode": {
    "name": "ipython",
    "version": 3
   },
   "file_extension": ".py",
   "mimetype": "text/x-python",
   "name": "python",
   "nbconvert_exporter": "python",
   "pygments_lexer": "ipython3",
   "version": "3.10.9"
  }
 },
 "nbformat": 4,
 "nbformat_minor": 5
}
